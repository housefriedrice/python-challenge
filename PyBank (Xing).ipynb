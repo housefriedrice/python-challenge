{
 "cells": [
  {
   "cell_type": "code",
   "execution_count": 62,
   "metadata": {},
   "outputs": [
    {
     "name": "stdout",
     "output_type": "stream",
     "text": [
      "Total Months: 86\n",
      "Total: $38382578\n",
      "Average Change: $-2315.12\n",
      "Greatest Increase in Profits: Feb-2012 ($1926159)\n",
      "Greatest Decrease in Profits: Sep-2013 ($-2196167)\n"
     ]
    }
   ],
   "source": [
    "import os\n",
    "import csv\n",
    "budget_list=[]\n",
    "total_profit=0\n",
    "\n",
    "with open('budget_data.csv',newline='') as csvfile:\n",
    "    \n",
    "    csvreader = csv.reader(csvfile,delimiter=',')\n",
    "    \n",
    "    \n",
    "    csv_header = next(csvreader)\n",
    "    \n",
    "    \n",
    "    change_list =[]\n",
    "\n",
    "    \n",
    "    last_month_profit=0\n",
    "    this_month_profit=0    \n",
    "    for row in csvreader:\n",
    "        budget_list.append(row)                # add line as a list of month and profit/loss to the overall budget list\n",
    "        total_profit += int(row[1])            # Concatenate each line of profit/loss to the total profit (/loss)\n",
    "\n",
    "        if len(budget_list)==1:\n",
    "            last_month_profit = int(row[1])\n",
    "        elif len(budget_list)>1:\n",
    "            this_month_profit = int(row[1])\n",
    "            change = this_month_profit - last_month_profit\n",
    "            change_list.append(change)\n",
    "            row.append(change)\n",
    "            last_month_profit = this_month_profit\n",
    "            \n",
    "total_months =  len(budget_list)\n",
    "            \n",
    "output_line1 = \"Total Months: \" + str(total_months) +\"\\n\"\n",
    "\n",
    "output_line2 = \"Total: $\" + str(total_profit) + \"\\n\"\n",
    "\n",
    "sum_of_changes = sum(change_list)\n",
    "\n",
    "number_of_changes = len(change_list)\n",
    "\n",
    "average_of_changes = sum_of_changes / number_of_changes\n",
    "\n",
    "output_line3 = \"Average Change: $\" + str(round(average_of_changes,2)) + \"\\n\"\n",
    "\n",
    "greatest_increase_in_profit =  max(change_list)\n",
    "\n",
    "greatest_increase_month_row_index = change_list.index(greatest_increase_in_profit) + 1\n",
    "\n",
    "output_line4 = \"Greatest Increase in Profits: \" + budget_list[greatest_increase_month_row_index][0] + \" ($\" + str(greatest_increase_in_profit) + \")\\n\"\n",
    "\n",
    "greatest_decrease_in_profit =  min(change_list)\n",
    "\n",
    "greatest_decrease_month_row_index = change_list.index(greatest_decrease_in_profit) + 1\n",
    "\n",
    "budget_list[greatest_decrease_month_row_index][0]\n",
    "\n",
    "output_line5 = \"Greatest Decrease in Profits: \" + budget_list[greatest_decrease_month_row_index][0] + \" ($\" + str(greatest_decrease_in_profit) + \")\"\n",
    "\n",
    "print(output_line1 + output_line2 + output_line3 + output_line4 + output_line5)\n",
    "\n",
    "outputFileDirectory = \"output.txt\"\n",
    "\n",
    "f = open(outputFileDirectory,\"w+\")\n",
    "\n",
    "f.write(output_line1)\n",
    "f.write(output_line2)\n",
    "f.write(output_line3)\n",
    "f.write(output_line4)\n",
    "f.write(output_line5)\n",
    "\n",
    "f.close()\n",
    "os.startfile(outputFileDirectory)\n"
   ]
  }
 ],
 "metadata": {
  "kernelspec": {
   "display_name": "Python 3",
   "language": "python",
   "name": "python3"
  },
  "language_info": {
   "codemirror_mode": {
    "name": "ipython",
    "version": 3
   },
   "file_extension": ".py",
   "mimetype": "text/x-python",
   "name": "python",
   "nbconvert_exporter": "python",
   "pygments_lexer": "ipython3",
   "version": "3.7.3"
  }
 },
 "nbformat": 4,
 "nbformat_minor": 2
}
